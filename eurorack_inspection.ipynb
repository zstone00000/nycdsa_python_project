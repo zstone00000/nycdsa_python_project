{
 "cells": [
  {
   "cell_type": "code",
   "execution_count": 1,
   "id": "fc7341c7-1d18-40d4-b71a-02387fe6737b",
   "metadata": {},
   "outputs": [],
   "source": [
    "import pandas as pd\n",
    "import numpy as np\n",
    "from matplotlib import pyplot as plt\n",
    "import seaborn as sns"
   ]
  },
  {
   "cell_type": "code",
   "execution_count": 2,
   "id": "98708fa3-8672-4416-a6fd-6f05de9b2d3f",
   "metadata": {},
   "outputs": [],
   "source": [
    "#import data and subset meaningful columns\n",
    "df = pd.read_csv('/Users/zachstone/notebooks/modulargrid/modulargrid_scrape-main/modules.csv')\n",
    "df = df[['manufacturer_name', \n",
    "         'module_name', \n",
    "         'module_type',\n",
    "         'width',\n",
    "         'depth',\n",
    "         'current_plus12V','current_minus12V','current_5V',\n",
    "         'price',\n",
    "         'num_racks',\n",
    "         'tags',\n",
    "         'availability']]"
   ]
  },
  {
   "cell_type": "code",
   "execution_count": 3,
   "id": "db03e3bd-abd1-4280-abd4-970bdbfef5c1",
   "metadata": {},
   "outputs": [
    {
     "name": "stderr",
     "output_type": "stream",
     "text": [
      "/var/folders/g3/v_62hrbj20d1z2xt6c246v780000gn/T/ipykernel_1526/1158565268.py:3: SettingWithCopyWarning: \n",
      "A value is trying to be set on a copy of a slice from a DataFrame\n",
      "\n",
      "See the caveats in the documentation: https://pandas.pydata.org/pandas-docs/stable/user_guide/indexing.html#returning-a-view-versus-a-copy\n",
      "  moduledf.drop('module_type', axis =1, inplace=True)\n",
      "/var/folders/g3/v_62hrbj20d1z2xt6c246v780000gn/T/ipykernel_1526/1158565268.py:4: SettingWithCopyWarning: \n",
      "A value is trying to be set on a copy of a slice from a DataFrame.\n",
      "Try using .loc[row_indexer,col_indexer] = value instead\n",
      "\n",
      "See the caveats in the documentation: https://pandas.pydata.org/pandas-docs/stable/user_guide/indexing.html#returning-a-view-versus-a-copy\n",
      "  moduledf['tags'] = moduledf['tags'].str.lower()\n"
     ]
    }
   ],
   "source": [
    "# #subset eurorack modules\n",
    "moduledf = df[df.module_type == 'eurorack']\n",
    "moduledf.drop('module_type', axis =1, inplace=True)\n",
    "moduledf['tags'] = moduledf['tags'].str.lower()"
   ]
  },
  {
   "cell_type": "code",
   "execution_count": 4,
   "id": "20c0a249-6fd0-46db-b27d-4656b673d2cb",
   "metadata": {},
   "outputs": [
    {
     "data": {
      "text/plain": [
       "manufacturer_name       0\n",
       "module_name             0\n",
       "width                   0\n",
       "depth                3256\n",
       "current_plus12V      3694\n",
       "current_minus12V     4314\n",
       "current_5V           6107\n",
       "price                2402\n",
       "num_racks               0\n",
       "tags                   71\n",
       "availability            0\n",
       "dtype: int64"
      ]
     },
     "execution_count": 4,
     "metadata": {},
     "output_type": "execute_result"
    }
   ],
   "source": [
    "moduledf.isna().sum()\n",
    "#missing current and depth info OK\n",
    "#tags and price are important factors"
   ]
  },
  {
   "cell_type": "code",
   "execution_count": null,
   "id": "8d93195f-615a-41d7-bfdb-7b245a273d1b",
   "metadata": {},
   "outputs": [],
   "source": []
  }
 ],
 "metadata": {
  "kernelspec": {
   "display_name": "Python 3 (ipykernel)",
   "language": "python",
   "name": "python3"
  },
  "language_info": {
   "codemirror_mode": {
    "name": "ipython",
    "version": 3
   },
   "file_extension": ".py",
   "mimetype": "text/x-python",
   "name": "python",
   "nbconvert_exporter": "python",
   "pygments_lexer": "ipython3",
   "version": "3.9.12"
  }
 },
 "nbformat": 4,
 "nbformat_minor": 5
}
